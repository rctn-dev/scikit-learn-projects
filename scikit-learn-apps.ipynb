{
 "cells": [
  {
   "cell_type": "markdown",
   "metadata": {},
   "source": [
    "# BASICS OF SCIKIT-LEARN\n",
    "* Scikit-learn is a dedicated machine-learning library, providing a rich collection of algorithms and tools specifically designed for machine-learning tasks, where the main functionality includes classification, regression, clustering, dimensionality reduction, model selection and pre-processing. The library is very simple to use and most importantly efficient as it is built on NumPy, SciPy and matplotlib.\n",
    "* We will make use of a gradient descent regression model of scikit-learn, which is  **sklearn.linear_model.SGDRegressor**. The model performs best with normalized inputs. \n",
    "* The **sklearn.preprocessing.StandardScaler** will perform z-score normalization for getting the normalized inputs."
   ]
  },
  {
   "cell_type": "code",
   "execution_count": 3,
   "metadata": {},
   "outputs": [
    {
     "name": "stdout",
     "output_type": "stream",
     "text": [
      "SGDRegressor()\n",
      "completed iterations: 141, number of weight updates: 14101.0\n",
      "model parameters->w: [110.37 -21.35 -32.5  -37.83], b:[362.27]\n",
      "Prediction on training set:\n",
      "[248.64 295.59 485.83 389.71]\n",
      "Prediction on training set:\n",
      "[248.64 295.59 485.83 389.71]\n",
      "Target values \n",
      "[271.5 300.  509.8 394. ]\n"
     ]
    }
   ],
   "source": [
    "import numpy as np\n",
    "import matplotlib.pyplot as plt\n",
    "from sklearn.linear_model import SGDRegressor\n",
    "from sklearn.preprocessing import StandardScaler\n",
    "\n",
    "np.set_printoptions(precision=2)\n",
    "# Load the data\n",
    "data = np.loadtxt(\"assets/data/houses.txt\",delimiter=',') \n",
    "x_train,y_train=data[:,0:4], data[:,4] \n",
    "\n",
    "# Preprocessing, normalization\n",
    "scaler = StandardScaler()\n",
    "x_norm = scaler.fit_transform(x_train)\n",
    "\n",
    "# gradient descent algorithm works.\n",
    "sgdr = SGDRegressor(max_iter=1000)\n",
    "sgdr.fit(x_norm, y_train)\n",
    "print(sgdr)\n",
    "print(f\"completed iterations: {sgdr.n_iter_}, number of weight updates: {sgdr.t_}\")\n",
    "\n",
    "b_optim = sgdr.intercept_\n",
    "w_optim = sgdr.coef_\n",
    "print(f\"model parameters->w: {w_optim}, b:{b_optim}\")\n",
    "\n",
    "# There are 2 different ways of making predictions\n",
    "# make a prediction using sgdr.predict()\n",
    "y_pred_sgd = sgdr.predict(x_norm)\n",
    "# make a prediction using w,b and matrix operations \n",
    "y_pred = np.dot(x_norm, w_optim) + b_optim  \n",
    "\n",
    "print(f\"Prediction on training set:\\n{y_pred[:4]}\" )\n",
    "print(f\"Prediction on training set:\\n{y_pred_sgd[:4]}\" )\n",
    "print(f\"Target values \\n{y_train[:4]}\")"
   ]
  }
 ],
 "metadata": {
  "kernelspec": {
   "display_name": "scikit-learn-projects-cYkbGMe6",
   "language": "python",
   "name": "python3"
  },
  "language_info": {
   "codemirror_mode": {
    "name": "ipython",
    "version": 3
   },
   "file_extension": ".py",
   "mimetype": "text/x-python",
   "name": "python",
   "nbconvert_exporter": "python",
   "pygments_lexer": "ipython3",
   "version": "3.11.0"
  }
 },
 "nbformat": 4,
 "nbformat_minor": 2
}
